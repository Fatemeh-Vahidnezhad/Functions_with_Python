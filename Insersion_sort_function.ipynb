{
 "cells": [
  {
   "cell_type": "code",
   "execution_count": 15,
   "id": "49ee3475-e57a-40d9-a527-5da8ae743a5b",
   "metadata": {
    "scrolled": true,
    "tags": []
   },
   "outputs": [
    {
     "name": "stdout",
     "output_type": "stream",
     "text": [
      "[-43, -4, 0, 0, 1, 2, 5, 9, 75, 97]\n"
     ]
    }
   ],
   "source": [
    "def Insersion_sort(lst):\n",
    "    for i in range(1, len(lst)):\n",
    "        key = lst[i]\n",
    "        j = i-1\n",
    "        while j >= 0 and lst[j] > key:\n",
    "            lst[j+1] = lst[j]\n",
    "            lst[j] = key\n",
    "            j -= 1\n",
    "    return lst\n",
    "\n",
    "\n",
    "\n",
    "\n",
    "\n",
    "mylist = [5,2,1,0,9,75,0,-43,97,-4]\n",
    "print(Insersion_sort(mylist))"
   ]
  },
  {
   "cell_type": "code",
   "execution_count": 12,
   "id": "63e7bc6b-7c34-4eb8-a1ea-fbbac4ec0bf2",
   "metadata": {},
   "outputs": [
    {
     "name": "stdout",
     "output_type": "stream",
     "text": [
      "i =  1\n",
      "j, lst[j] , key  0 5 2\n",
      "[2, 5, 1, 0, 9, 75, -5, 97]\n",
      "\n",
      "\n",
      "i =  2\n",
      "j, lst[j] , key  1 5 1\n",
      "j, lst[j] , key  0 2 1\n",
      "[1, 2, 5, 0, 9, 75, -5, 97]\n",
      "\n",
      "\n",
      "i =  3\n",
      "j, lst[j] , key  2 5 0\n",
      "j, lst[j] , key  1 2 0\n",
      "j, lst[j] , key  0 1 0\n",
      "[0, 1, 2, 5, 9, 75, -5, 97]\n",
      "\n",
      "\n",
      "i =  4\n",
      "[0, 1, 2, 5, 9, 75, -5, 97]\n",
      "\n",
      "\n",
      "i =  5\n",
      "[0, 1, 2, 5, 9, 75, -5, 97]\n",
      "\n",
      "\n",
      "i =  6\n",
      "j, lst[j] , key  5 75 -5\n",
      "j, lst[j] , key  4 9 -5\n",
      "j, lst[j] , key  3 5 -5\n",
      "j, lst[j] , key  2 2 -5\n",
      "j, lst[j] , key  1 1 -5\n",
      "j, lst[j] , key  0 0 -5\n",
      "[-5, 0, 1, 2, 5, 9, 75, 97]\n",
      "\n",
      "\n",
      "i =  7\n",
      "[-5, 0, 1, 2, 5, 9, 75, 97]\n",
      "\n",
      "\n"
     ]
    }
   ],
   "source": [
    "lst = [5,2,1,0,9,75, -5,97]\n",
    "\n",
    "for i in range(1, len(lst)):\n",
    "    print(\"i = \", i)\n",
    "    key = lst[i]\n",
    "    j = i-1\n",
    "    \n",
    "    while j >= 0 and lst[j] > key:\n",
    "        print(\"j, lst[j] , key \" , j , lst[j] , key)\n",
    "        lst[j+1] = lst[j]\n",
    "        lst[j] = key\n",
    "        j -= 1\n",
    "    print(lst)\n",
    "    print(\"\\n\")"
   ]
  },
  {
   "cell_type": "code",
   "execution_count": null,
   "id": "4c4dfdd2",
   "metadata": {},
   "outputs": [],
   "source": []
  }
 ],
 "metadata": {
  "kernelspec": {
   "display_name": "Python 3 (ipykernel)",
   "language": "python",
   "name": "python3"
  },
  "language_info": {
   "codemirror_mode": {
    "name": "ipython",
    "version": 3
   },
   "file_extension": ".py",
   "mimetype": "text/x-python",
   "name": "python",
   "nbconvert_exporter": "python",
   "pygments_lexer": "ipython3",
   "version": "3.10.6"
  }
 },
 "nbformat": 4,
 "nbformat_minor": 5
}
