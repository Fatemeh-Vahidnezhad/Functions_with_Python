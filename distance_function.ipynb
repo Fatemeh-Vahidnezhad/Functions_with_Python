{
 "cells": [
  {
   "cell_type": "code",
   "execution_count": 36,
   "id": "3591b6d3-b9f0-4759-bbef-4d2d2b767401",
   "metadata": {},
   "outputs": [],
   "source": [
    "import math\n",
    "import random as rd\n",
    "from functools import partial"
   ]
  },
  {
   "cell_type": "code",
   "execution_count": 44,
   "id": "dbf407ff-5e60-41a9-b41b-a86e4f2e7bb1",
   "metadata": {
    "tags": []
   },
   "outputs": [
    {
     "name": "stdout",
     "output_type": "stream",
     "text": [
      "124.3\n"
     ]
    }
   ],
   "source": [
    "#sample of Partial function:\n",
    "def func(a,b,c,x):\n",
    "    return a*100 + b*10 + c *0.1 + x\n",
    "\n",
    "func1 = partial(func,1,2,3)   # a = 1, b = 2, c = 3 \n",
    "print(func1(4))               # x = 4"
   ]
  },
  {
   "cell_type": "code",
   "execution_count": 35,
   "id": "6909490b-4a74-434c-8665-1fc551fff137",
   "metadata": {
    "collapsed": true,
    "jupyter": {
     "outputs_hidden": true
    },
    "tags": []
   },
   "outputs": [
    {
     "name": "stdout",
     "output_type": "stream",
     "text": [
      "5.1\n",
      "5.83\n",
      "2.83\n",
      "1.0\n",
      "3.16\n",
      "5.83\n",
      "7.07\n",
      "1.0\n",
      "4.24\n"
     ]
    }
   ],
   "source": [
    "#computing the distance between every point in data and target_point\n",
    "target_point = (3,4)\n",
    "def distance(v1, v2):\n",
    "    x1, y1 = v1\n",
    "    x2, y2 = v2\n",
    "    return math.sqrt((x2-x1)**2 +(y2-y1)**2)\n",
    "\n",
    "for point in data:\n",
    "    print(round(distance(target_point,point),2))\n",
    "    "
   ]
  },
  {
   "cell_type": "code",
   "execution_count": 33,
   "id": "85307b1d-284d-452d-b9c2-b6c2f3ff0159",
   "metadata": {
    "tags": []
   },
   "outputs": [
    {
     "data": {
      "text/plain": [
       "[(8, 5), (8, 1), (1, 6), (2, 4), (4, 7), (8, 7), (8, 9), (3, 5), (6, 7)]"
      ]
     },
     "execution_count": 33,
     "metadata": {},
     "output_type": "execute_result"
    }
   ],
   "source": [
    "#producing random data 10 times.\n",
    "def random_fun():\n",
    "    return rd.randint(1,10)\n",
    "\n",
    "data = [(random_func(),random_func()) for x in range(1,10) ]  \n",
    "data"
   ]
  },
  {
   "cell_type": "code",
   "execution_count": 42,
   "id": "be635c10-5f2a-44a2-9124-b2b27fa3b4a4",
   "metadata": {
    "tags": []
   },
   "outputs": [
    {
     "name": "stdout",
     "output_type": "stream",
     "text": [
      "1.0\n",
      "1.0\n",
      "2.83\n",
      "3.16\n",
      "4.24\n",
      "5.1\n",
      "5.83\n",
      "5.83\n",
      "7.07\n"
     ]
    }
   ],
   "source": [
    "#computing the distance between every point in data and target_point\n",
    "#sorting the result of distances:\n",
    "\n",
    "target_point = (3,4)\n",
    "def distance(v1, v2):\n",
    "    x1, y1 = v1\n",
    "    x2, y2 = v2\n",
    "    return math.sqrt((x2-x1)**2 +(y2-y1)**2)\n",
    "\n",
    "\n",
    "distance_p = partial(distance,target_point)   #partial function can reduce the number of arguments\n",
    "data.sort(key = distance_p)                 #we can sort a data by a function at key,... The key function gets just one argument. \n",
    "\n",
    "for point in data:\n",
    "    print(round(distance_p(point),2))       \n",
    "\n"
   ]
  },
  {
   "cell_type": "code",
   "execution_count": null,
   "id": "de02455d-3f86-452a-99da-cdda006c1355",
   "metadata": {},
   "outputs": [],
   "source": []
  }
 ],
 "metadata": {
  "kernelspec": {
   "display_name": "Python 3 (ipykernel)",
   "language": "python",
   "name": "python3"
  },
  "language_info": {
   "codemirror_mode": {
    "name": "ipython",
    "version": 3
   },
   "file_extension": ".py",
   "mimetype": "text/x-python",
   "name": "python",
   "nbconvert_exporter": "python",
   "pygments_lexer": "ipython3",
   "version": "3.10.10"
  }
 },
 "nbformat": 4,
 "nbformat_minor": 5
}
