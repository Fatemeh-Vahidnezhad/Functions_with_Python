{
 "cells": [
  {
   "cell_type": "code",
   "execution_count": 2,
   "id": "e62c8b9f",
   "metadata": {},
   "outputs": [
    {
     "data": {
      "text/plain": [
       "55"
      ]
     },
     "execution_count": 2,
     "metadata": {},
     "output_type": "execute_result"
    }
   ],
   "source": [
    "def F(n):\n",
    "    if n == 0:\n",
    "        return 0\n",
    "    if n == 1:\n",
    "        return 1\n",
    "    else:\n",
    "        return F(n-1) + F(n-2)\n",
    "\n",
    "F(10)"
   ]
  },
  {
   "cell_type": "code",
   "execution_count": 3,
   "id": "42c22f40",
   "metadata": {},
   "outputs": [],
   "source": [
    "lst = [5,2,1,0,9,75,0,-43,97,-4]"
   ]
  },
  {
   "cell_type": "code",
   "execution_count": 18,
   "id": "3021d365",
   "metadata": {},
   "outputs": [
    {
     "name": "stdout",
     "output_type": "stream",
     "text": [
      "[0, 2, 3, 4]\n"
     ]
    }
   ],
   "source": [
    "lst = [4,3,0,2]\n",
    "n = len(lst)\n",
    "for i in range(0,n-1):\n",
    "    for j in range (0, n-i-1): \n",
    "        if lst[j] > lst[j+1]:\n",
    "            lst[j] , lst[j+1] = lst[j+1] , lst[j] \n",
    "print(lst)"
   ]
  },
  {
   "cell_type": "code",
   "execution_count": null,
   "id": "bfd1bd5e",
   "metadata": {},
   "outputs": [],
   "source": []
  }
 ],
 "metadata": {
  "kernelspec": {
   "display_name": "Python 3 (ipykernel)",
   "language": "python",
   "name": "python3"
  },
  "language_info": {
   "codemirror_mode": {
    "name": "ipython",
    "version": 3
   },
   "file_extension": ".py",
   "mimetype": "text/x-python",
   "name": "python",
   "nbconvert_exporter": "python",
   "pygments_lexer": "ipython3",
   "version": "3.10.6"
  }
 },
 "nbformat": 4,
 "nbformat_minor": 5
}
